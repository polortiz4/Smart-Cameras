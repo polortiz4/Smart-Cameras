{
  "nbformat": 4,
  "nbformat_minor": 0,
  "metadata": {
    "colab": {
      "name": "Smart Cameras - HW1",
      "version": "0.3.2",
      "provenance": [],
      "collapsed_sections": [],
      "toc_visible": true,
      "include_colab_link": true
    },
    "kernelspec": {
      "name": "python3",
      "display_name": "Python 3"
    },
    "accelerator": "GPU"
  },
  "cells": [
    {
      "cell_type": "markdown",
      "metadata": {
        "id": "view-in-github",
        "colab_type": "text"
      },
      "source": [
        "<a href=\"https://colab.research.google.com/github/polortiz4/Smart-Cameras/blob/master/Smart_Cameras_HW1.ipynb\" target=\"_parent\"><img src=\"https://colab.research.google.com/assets/colab-badge.svg\" alt=\"Open In Colab\"/></a>"
      ]
    },
    {
      "metadata": {
        "id": "QKazipvBuZ2e",
        "colab_type": "text"
      },
      "cell_type": "markdown",
      "source": [
        "# HW1 \n",
        "Pablo Ortiz\n",
        "01/28/19\n",
        "\n"
      ]
    },
    {
      "metadata": {
        "id": "XZQl-RVF2V2R",
        "colab_type": "code",
        "outputId": "d1a3583b-6bb7-4a8a-cbd9-d28ca8ba2ea7",
        "colab": {
          "base_uri": "https://localhost:8080/",
          "height": 272
        }
      },
      "cell_type": "code",
      "source": [
        "#Download\n",
        "!wget ftp://ftp.inrialpes.fr/pub/lear/douze/data/INRIAPerson.tar\n",
        "  \n",
        "#Extract  \n",
        "import tarfile\n",
        "tf = tarfile.open(\"INRIAPerson.tar\")\n",
        "tf.extractall()"
      ],
      "execution_count": 15,
      "outputs": [
        {
          "output_type": "stream",
          "text": [
            "--2019-01-28 23:02:25--  ftp://ftp.inrialpes.fr/pub/lear/douze/data/INRIAPerson.tar\n",
            "           => ‘INRIAPerson.tar’\n",
            "Resolving ftp.inrialpes.fr (ftp.inrialpes.fr)... 194.199.18.221\n",
            "Connecting to ftp.inrialpes.fr (ftp.inrialpes.fr)|194.199.18.221|:21... connected.\n",
            "Logging in as anonymous ... Logged in!\n",
            "==> SYST ... done.    ==> PWD ... done.\n",
            "==> TYPE I ... done.  ==> CWD (1) /pub/lear/douze/data ... done.\n",
            "==> SIZE INRIAPerson.tar ... 1016094720\n",
            "==> PASV ... done.    ==> RETR INRIAPerson.tar ... done.\n",
            "Length: 1016094720 (969M) (unauthoritative)\n",
            "\n",
            "INRIAPerson.tar     100%[===================>] 969.02M  29.9MB/s    in 34s     \n",
            "\n",
            "2019-01-28 23:03:00 (28.5 MB/s) - ‘INRIAPerson.tar’ saved [1016094720]\n",
            "\n"
          ],
          "name": "stdout"
        }
      ]
    },
    {
      "metadata": {
        "id": "ecLaLGFLOgbQ",
        "colab_type": "code",
        "colab": {}
      },
      "cell_type": "code",
      "source": [
        "import time\n",
        "import matplotlib.pyplot as plt\n",
        "import numpy as np\n",
        "from keras.models import Sequential\n",
        "from keras.layers import Dense\n",
        "from keras.layers import Dropout\n",
        "from keras.layers import Flatten\n",
        "from keras.constraints import maxnorm\n",
        "from keras.layers import Activation\n",
        "from keras.layers.convolutional import Conv2D\n",
        "from keras.layers.convolutional import MaxPooling2D\n",
        "from keras.layers.normalization import BatchNormalization\n",
        "from keras.utils import np_utils\n",
        "from keras import backend as K\n",
        "if K.backend()=='tensorflow':\n",
        "    K.set_image_dim_ordering(\"th\")\n",
        " \n",
        "# Import Tensorflow with multiprocessing\n",
        "import tensorflow as tf\n",
        "import multiprocessing as mp\n",
        " \n",
        "# Loading the CIFAR-10 datasets\n",
        "from keras.datasets import cifar10"
      ],
      "execution_count": 0,
      "outputs": []
    },
    {
      "metadata": {
        "id": "YLmzsDSnGJyC",
        "colab_type": "code",
        "colab": {}
      },
      "cell_type": "code",
      "source": [
        "num_classes = 2\n",
        "batch_size = 32\n",
        "epochs = 10\n",
        "class_names = ['Person', 'No Person']\n",
        "im_size1, im_size2 = 256, 256"
      ],
      "execution_count": 0,
      "outputs": []
    },
    {
      "metadata": {
        "id": "saQ2K00L8pOG",
        "colab_type": "code",
        "colab": {}
      },
      "cell_type": "code",
      "source": [
        "# preprocess the data\n",
        "def preprocess(im):\n",
        "  im1 = cv2.resize(im, (im_size1, im_size2)) \n",
        "  im1 = cv2.cvtColor(im1, cv2.COLOR_BGR2RGB)\n",
        "  im1 = im1 / np.amax(im1)\n",
        "  im1 = im1 * 1.0\n",
        "  return im1"
      ],
      "execution_count": 0,
      "outputs": []
    },
    {
      "metadata": {
        "id": "unIFA-xIQoGa",
        "colab_type": "code",
        "colab": {}
      },
      "cell_type": "code",
      "source": [
        "# Collect the test image filenames from the INRIAPerson folder\n",
        "\n",
        "def collect_filenames(image_type):\n",
        "  file_names = []\n",
        "  label = []\n",
        "  for dirpath, dirnames, filenames in os.walk(os.path.join(\"INRIAPerson/\", image_type)):\n",
        "    for filename in [f for f in filenames if f.endswith(\".png\") | f.endswith(\".jpg\")]:\n",
        "      if dirpath.endswith(\"/pos\"):\n",
        "        label = np.append(label, 0)\n",
        "      elif dirpath.endswith(\"/neg\"):\n",
        "        label = np.append(label, 1)\n",
        "      file_names = np.append(file_names, os.path.join(dirpath, filename))\n",
        "  Test_num_of_data = len(file_names)\n",
        "  #Test_DATA = np.zeros([Test_num_of_data, im_size2, im_size1, 3])\n",
        "  \n",
        "  return label, file_names, Test_num_of_data"
      ],
      "execution_count": 0,
      "outputs": []
    },
    {
      "metadata": {
        "id": "q9spniorTAWZ",
        "colab_type": "code",
        "colab": {}
      },
      "cell_type": "code",
      "source": [
        "def DATA_matrix(Num_of_data, File_names):\n",
        "  DATA = np.zeros([Num_of_data, im_size2, im_size1, 3])\n",
        "  for i in range(Num_of_data):\n",
        "    ## load one image\n",
        "    img = cv2.imread(File_names[i])\n",
        "    ## preprocess it\n",
        "    DATA[i,:,:,:] = preprocess(img)\n",
        "    \n",
        "  return DATA"
      ],
      "execution_count": 0,
      "outputs": []
    },
    {
      "metadata": {
        "id": "jZieRXj2RRqj",
        "colab_type": "code",
        "colab": {}
      },
      "cell_type": "code",
      "source": [
        "import os\n",
        "import numpy as np\n",
        "test_label, test_file_names, Test_num_of_data = collect_filenames('Test')\n",
        "train_label, train_file_names, Num_of_data = collect_filenames('Train')"
      ],
      "execution_count": 0,
      "outputs": []
    },
    {
      "metadata": {
        "id": "WDV64qWKT5Sl",
        "colab_type": "code",
        "colab": {}
      },
      "cell_type": "code",
      "source": [
        "import cv2\n",
        "train_data = DATA_matrix(Num_of_data, train_file_names)\n",
        "test_data = DATA_matrix(Test_num_of_data, test_file_names)\n",
        "\n",
        "np.save('train_data', train_data)\n",
        "np.save('train_label', train_label)\n",
        "np.save('test_label', test_label)\n",
        "np.save('test_data', test_data)"
      ],
      "execution_count": 0,
      "outputs": []
    },
    {
      "metadata": {
        "id": "9StT7wGOW2Fh",
        "colab_type": "code",
        "colab": {}
      },
      "cell_type": "code",
      "source": [
        "## When you need to load it\n",
        "x_train = np.load('train_data.npy')\n",
        "y_train = np.load('train_label.npy')\n",
        "x_test = np.load('test_data.npy')\n",
        "y_test = np.load('test_label.npy')"
      ],
      "execution_count": 0,
      "outputs": []
    },
    {
      "metadata": {
        "id": "mXPIkSX-nm6A",
        "colab_type": "code",
        "colab": {}
      },
      "cell_type": "code",
      "source": [
        "# Convert and pre-processing\n",
        "\n",
        "from keras.utils import np_utils\n",
        "y_train = np_utils.to_categorical(y_train, num_classes)\n",
        "y_test = np_utils.to_categorical(y_test, num_classes)\n",
        "x_train = x_train.astype('float32')\n",
        "x_test = x_test.astype('float32')\n"
      ],
      "execution_count": 0,
      "outputs": []
    },
    {
      "metadata": {
        "id": "llJJxYU5LU4r",
        "colab_type": "code",
        "outputId": "194bb4dc-025c-4289-8fdd-8067dd33c923",
        "colab": {
          "base_uri": "https://localhost:8080/",
          "height": 1105
        }
      },
      "cell_type": "code",
      "source": [
        "# define the neural network model\n",
        "\n",
        "def base_model():\n",
        "\n",
        "    model = Sequential()\n",
        "    model.add(Conv2D(32, (3, 3), padding='same', input_shape=x_train.shape[1:], data_format = 'channels_last'))\n",
        "    model.add(Activation('relu'))\n",
        "    model.add(Conv2D(32,(3, 3)))\n",
        "    model.add(Activation('relu'))\n",
        "    model.add(MaxPooling2D(pool_size=(2, 2)))\n",
        "    model.add(Dropout(0.25))\n",
        "\n",
        "    model.add(Conv2D(64, (3, 3), padding='same'))\n",
        "    model.add(Activation('relu'))\n",
        "    model.add(Conv2D(64, (3,3)))\n",
        "    model.add(Activation('relu'))\n",
        "    model.add(MaxPooling2D(pool_size=(2, 2)))\n",
        "    model.add(Dropout(0.25))\n",
        "\n",
        "    model.add(Flatten())\n",
        "    model.add(Dense(512))\n",
        "    model.add(Activation('relu'))\n",
        "    model.add(Dropout(0.5))\n",
        "    model.add(Dense(num_classes))\n",
        "    model.add(Activation('softmax'))\n",
        "\n",
        "\n",
        "# Train model\n",
        "\n",
        "    model.compile(loss='binary_crossentropy', optimizer='adam', metrics=['accuracy'])\n",
        "    return model\n",
        "cnn_n = base_model()\n",
        "cnn_n.summary()\n",
        "\n",
        "# Fit model\n",
        "\n",
        "cnn = cnn_n.fit(x_train, y_train, batch_size=batch_size, epochs=epochs, validation_data=(x_test, y_test),shuffle=True)"
      ],
      "execution_count": 25,
      "outputs": [
        {
          "output_type": "stream",
          "text": [
            "_________________________________________________________________\n",
            "Layer (type)                 Output Shape              Param #   \n",
            "=================================================================\n",
            "conv2d_5 (Conv2D)            (None, 256, 256, 32)      896       \n",
            "_________________________________________________________________\n",
            "activation_7 (Activation)    (None, 256, 256, 32)      0         \n",
            "_________________________________________________________________\n",
            "conv2d_6 (Conv2D)            (None, 32, 254, 30)       73760     \n",
            "_________________________________________________________________\n",
            "activation_8 (Activation)    (None, 32, 254, 30)       0         \n",
            "_________________________________________________________________\n",
            "max_pooling2d_3 (MaxPooling2 (None, 32, 127, 15)       0         \n",
            "_________________________________________________________________\n",
            "dropout_4 (Dropout)          (None, 32, 127, 15)       0         \n",
            "_________________________________________________________________\n",
            "conv2d_7 (Conv2D)            (None, 64, 127, 15)       18496     \n",
            "_________________________________________________________________\n",
            "activation_9 (Activation)    (None, 64, 127, 15)       0         \n",
            "_________________________________________________________________\n",
            "conv2d_8 (Conv2D)            (None, 64, 125, 13)       36928     \n",
            "_________________________________________________________________\n",
            "activation_10 (Activation)   (None, 64, 125, 13)       0         \n",
            "_________________________________________________________________\n",
            "max_pooling2d_4 (MaxPooling2 (None, 64, 62, 6)         0         \n",
            "_________________________________________________________________\n",
            "dropout_5 (Dropout)          (None, 64, 62, 6)         0         \n",
            "_________________________________________________________________\n",
            "flatten_2 (Flatten)          (None, 23808)             0         \n",
            "_________________________________________________________________\n",
            "dense_3 (Dense)              (None, 512)               12190208  \n",
            "_________________________________________________________________\n",
            "activation_11 (Activation)   (None, 512)               0         \n",
            "_________________________________________________________________\n",
            "dropout_6 (Dropout)          (None, 512)               0         \n",
            "_________________________________________________________________\n",
            "dense_4 (Dense)              (None, 2)                 1026      \n",
            "_________________________________________________________________\n",
            "activation_12 (Activation)   (None, 2)                 0         \n",
            "=================================================================\n",
            "Total params: 12,321,314\n",
            "Trainable params: 12,321,314\n",
            "Non-trainable params: 0\n",
            "_________________________________________________________________\n",
            "Train on 1832 samples, validate on 741 samples\n",
            "Epoch 1/10\n",
            "1832/1832 [==============================] - 11s 6ms/step - loss: 0.6000 - acc: 0.7178 - val_loss: 0.4501 - val_acc: 0.7949\n",
            "Epoch 2/10\n",
            "1832/1832 [==============================] - 9s 5ms/step - loss: 0.4313 - acc: 0.7980 - val_loss: 0.4067 - val_acc: 0.7976\n",
            "Epoch 3/10\n",
            "1832/1832 [==============================] - 9s 5ms/step - loss: 0.3856 - acc: 0.8275 - val_loss: 0.4553 - val_acc: 0.8003\n",
            "Epoch 4/10\n",
            "1832/1832 [==============================] - 9s 5ms/step - loss: 0.3755 - acc: 0.8368 - val_loss: 0.3785 - val_acc: 0.8246\n",
            "Epoch 5/10\n",
            "1832/1832 [==============================] - 9s 5ms/step - loss: 0.3184 - acc: 0.8532 - val_loss: 0.3733 - val_acc: 0.8448\n",
            "Epoch 6/10\n",
            "1832/1832 [==============================] - 10s 5ms/step - loss: 0.2908 - acc: 0.8761 - val_loss: 0.3395 - val_acc: 0.8543\n",
            "Epoch 7/10\n",
            "1832/1832 [==============================] - 9s 5ms/step - loss: 0.2698 - acc: 0.8908 - val_loss: 0.3531 - val_acc: 0.8637\n",
            "Epoch 8/10\n",
            "1832/1832 [==============================] - 9s 5ms/step - loss: 0.2413 - acc: 0.9012 - val_loss: 0.3740 - val_acc: 0.8475\n",
            "Epoch 9/10\n",
            "1832/1832 [==============================] - 9s 5ms/step - loss: 0.2423 - acc: 0.9034 - val_loss: 0.3542 - val_acc: 0.8704\n",
            "Epoch 10/10\n",
            "1832/1832 [==============================] - 9s 5ms/step - loss: 0.2158 - acc: 0.9138 - val_loss: 0.3375 - val_acc: 0.8650\n"
          ],
          "name": "stdout"
        }
      ]
    },
    {
      "metadata": {
        "id": "Tf9Hi-WHhJaT",
        "colab_type": "code",
        "outputId": "93c98d97-5f88-4647-c383-5a37b792c6a8",
        "colab": {
          "base_uri": "https://localhost:8080/",
          "height": 789
        }
      },
      "cell_type": "code",
      "source": [
        "# Plots for training and testing process: loss and accuracy\n",
        "\n",
        "plt.figure(0)\n",
        "plt.plot(cnn.history['acc'],'r')\n",
        "plt.plot(cnn.history['val_acc'],'g')\n",
        "plt.xticks(np.arange(0, 11, 2.0))\n",
        "plt.rcParams['figure.figsize'] = (8, 6)\n",
        "plt.xlabel(\"Num of Epochs\")\n",
        "plt.ylabel(\"Accuracy\")\n",
        "plt.title(\"Training Accuracy vs Validation Accuracy\")\n",
        "plt.legend(['train','validation'])\n",
        "\n",
        "\n",
        "plt.figure(1)\n",
        "plt.plot(cnn.history['loss'],'r')\n",
        "plt.plot(cnn.history['val_loss'],'g')\n",
        "plt.xticks(np.arange(0, 11, 2.0))\n",
        "plt.rcParams['figure.figsize'] = (8, 6)\n",
        "plt.xlabel(\"Num of Epochs\")\n",
        "plt.ylabel(\"Loss\")\n",
        "plt.title(\"Training Loss vs Validation Loss\")\n",
        "plt.legend(['train','validation'])\n",
        "\n",
        "\n",
        "plt.show()"
      ],
      "execution_count": 26,
      "outputs": [
        {
          "output_type": "display_data",
          "data": {
            "image/png": "[encoded data removed]",
            "text/plain": [
              "<Figure size 576x432 with 1 Axes>"
            ]
          },
          "metadata": {
            "tags": []
          }
        },
        {
          "output_type": "display_data",
          "data": {
            "image/png": "[encoded data removed]",
            "text/plain": [
              "<Figure size 576x432 with 1 Axes>"
            ]
          },
          "metadata": {
            "tags": []
          }
        }
      ]
    },
    {
      "metadata": {
        "id": "SHeOixUfsbF8",
        "colab_type": "code",
        "colab": {}
      },
      "cell_type": "code",
      "source": [
        ""
      ],
      "execution_count": 0,
      "outputs": []
    }
  ]
}