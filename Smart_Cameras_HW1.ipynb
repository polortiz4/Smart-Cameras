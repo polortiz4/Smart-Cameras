{
  "nbformat": 4,
  "nbformat_minor": 0,
  "metadata": {
    "colab": {
      "name": "Smart Cameras - HW1",
      "version": "0.3.2",
      "provenance": [],
      "collapsed_sections": [],
      "toc_visible": true,
      "include_colab_link": true
    },
    "kernelspec": {
      "name": "python3",
      "display_name": "Python 3"
    },
    "accelerator": "GPU"
  },
  "cells": [
    {
      "cell_type": "markdown",
      "metadata": {
        "id": "view-in-github",
        "colab_type": "text"
      },
      "source": [
        "<a href=\"https://colab.research.google.com/github/polortiz4/Smart-Cameras/blob/master/Smart_Cameras_HW1.ipynb\" target=\"_parent\"><img src=\"https://colab.research.google.com/assets/colab-badge.svg\" alt=\"Open In Colab\"/></a>"
      ]
    },
    {
      "metadata": {
        "colab_type": "text",
        "id": "BlmQIFSLZDdc"
      },
      "cell_type": "markdown",
      "source": [
        "# Confirm TensorFlow can see the GPU\n",
        "\n",
        "Simply select \"GPU\" in the Accelerator drop-down in Notebook Settings (either through the Edit menu or the command palette at cmd/ctrl-shift-P)."
      ]
    },
    {
      "metadata": {
        "id": "XZQl-RVF2V2R",
        "colab_type": "code",
        "colab": {
          "base_uri": "https://localhost:8080/",
          "height": 272
        },
        "outputId": "f63d8ce1-decc-48be-9df9-80d36503e172"
      },
      "cell_type": "code",
      "source": [
        "!wget ftp://ftp.inrialpes.fr/pub/lear/douze/data/INRIAPerson.tar"
      ],
      "execution_count": 44,
      "outputs": [
        {
          "output_type": "stream",
          "text": [
            "--2019-01-28 05:24:18--  ftp://ftp.inrialpes.fr/pub/lear/douze/data/INRIAPerson.tar\n",
            "           => ‘INRIAPerson.tar’\n",
            "Resolving ftp.inrialpes.fr (ftp.inrialpes.fr)... 194.199.18.221\n",
            "Connecting to ftp.inrialpes.fr (ftp.inrialpes.fr)|194.199.18.221|:21... connected.\n",
            "Logging in as anonymous ... Logged in!\n",
            "==> SYST ... done.    ==> PWD ... done.\n",
            "==> TYPE I ... done.  ==> CWD (1) /pub/lear/douze/data ... done.\n",
            "==> SIZE INRIAPerson.tar ... 1016094720\n",
            "==> PASV ... done.    ==> RETR INRIAPerson.tar ... done.\n",
            "Length: 1016094720 (969M) (unauthoritative)\n",
            "\n",
            "INRIAPerson.tar     100%[===================>] 969.02M  12.4MB/s    in 2m 4s   \n",
            "\n",
            "2019-01-28 05:26:24 (7.82 MB/s) - ‘INRIAPerson.tar’ saved [1016094720]\n",
            "\n"
          ],
          "name": "stdout"
        }
      ]
    },
    {
      "metadata": {
        "id": "sXnx2zqo3VoQ",
        "colab_type": "code",
        "colab": {}
      },
      "cell_type": "code",
      "source": [
        "import tarfile\n",
        "tf = tarfile.open(\"INRIAPerson.tar\")\n",
        "tf.extractall()"
      ],
      "execution_count": 0,
      "outputs": []
    },
    {
      "metadata": {
        "id": "RXETTE_96jyo",
        "colab_type": "code",
        "colab": {
          "base_uri": "https://localhost:8080/",
          "height": 85
        },
        "outputId": "2111bcad-4b1e-4412-a237-7a50467703c3"
      },
      "cell_type": "code",
      "source": [
        "whos\n"
      ],
      "execution_count": 46,
      "outputs": [
        {
          "output_type": "stream",
          "text": [
            "Variable   Type       Data/Info\n",
            "-------------------------------\n",
            "tarfile    module     <module 'tarfile' from '/<...>ib/python3.6/tarfile.py'>\n",
            "tf         TarFile    <tarfile.TarFile object at 0x7f1259fdb128>\n"
          ],
          "name": "stdout"
        }
      ]
    },
    {
      "metadata": {
        "id": "zeyhCMsi79zd",
        "colab_type": "code",
        "colab": {
          "base_uri": "https://localhost:8080/",
          "height": 153
        },
        "outputId": "813c5127-4c51-47d3-df08-a2be6dac9b86"
      },
      "cell_type": "code",
      "source": [
        "import numpy as np\n",
        "import os\n",
        "File_names = []\n",
        "for dirpath, dirnames, filenames in os.walk(\"INRIAPerson/Train\"):\n",
        "  print(\"dirpath: \", dirpath)\n",
        "  print(\"dirnames: \", dirnames)\n",
        "  for filename in [f for f in filenames if f.endswith(\".png\")]:\n",
        "    File_names.append(os.path.join(dirpath, filename))"
      ],
      "execution_count": 65,
      "outputs": [
        {
          "output_type": "stream",
          "text": [
            "dirpath:  INRIAPerson/Train\n",
            "dirnames:  ['pos', 'annotations', 'neg']\n",
            "dirpath:  INRIAPerson/Train/pos\n",
            "dirnames:  []\n",
            "dirpath:  INRIAPerson/Train/annotations\n",
            "dirnames:  []\n",
            "dirpath:  INRIAPerson/Train/neg\n",
            "dirnames:  []\n"
          ],
          "name": "stdout"
        }
      ]
    },
    {
      "metadata": {
        "id": "saQ2K00L8pOG",
        "colab_type": "code",
        "colab": {
          "base_uri": "https://localhost:8080/",
          "height": 204
        },
        "outputId": "85d4a100-fb47-41c3-e84a-38dcbf498d78"
      },
      "cell_type": "code",
      "source": [
        "whos"
      ],
      "execution_count": 62,
      "outputs": [
        {
          "output_type": "stream",
          "text": [
            "Variable     Type       Data/Info\n",
            "---------------------------------\n",
            "File_names   list       n=1526\n",
            "dirnames     list       n=0\n",
            "dirpath      str        INRIAPerson/Train/neg\n",
            "filename     str        00000742a.png\n",
            "filenames    list       n=1218\n",
            "np           module     <module 'numpy' from '/us<...>kages/numpy/__init__.py'>\n",
            "os           module     <module 'os' from '/usr/lib/python3.6/os.py'>\n",
            "tarfile      module     <module 'tarfile' from '/<...>ib/python3.6/tarfile.py'>\n",
            "tf           TarFile    <tarfile.TarFile object at 0x7f1259fdb128>\n"
          ],
          "name": "stdout"
        }
      ]
    },
    {
      "metadata": {
        "id": "3zIcUrDk9Ail",
        "colab_type": "code",
        "colab": {}
      },
      "cell_type": "code",
      "source": [
        ""
      ],
      "execution_count": 0,
      "outputs": []
    }
  ]
}